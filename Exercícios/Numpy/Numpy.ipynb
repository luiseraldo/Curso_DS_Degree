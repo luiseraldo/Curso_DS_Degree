{
 "cells": [
  {
   "cell_type": "markdown",
   "metadata": {},
   "source": [
    "# Exercícios Numpy"
   ]
  },
  {
   "cell_type": "markdown",
   "metadata": {},
   "source": [
    "####  Multiplicação"
   ]
  },
  {
   "cell_type": "code",
   "execution_count": 1,
   "metadata": {},
   "outputs": [],
   "source": [
    "import numpy as np"
   ]
  },
  {
   "cell_type": "code",
   "execution_count": 2,
   "metadata": {},
   "outputs": [
    {
     "name": "stdout",
     "output_type": "stream",
     "text": [
      "[2 4 6 8]\n"
     ]
    }
   ],
   "source": [
    "a = np.array([1, 2, 3, 4])\n",
    "\n",
    "vetor_multiplicado = 2 * a\n",
    "\n",
    "print(vetor_multiplicado)"
   ]
  },
  {
   "cell_type": "markdown",
   "metadata": {},
   "source": [
    "#### Divisão\n",
    "**Exercício:**\n",
    "Sabendo que a operação de divisão é feita por __/__ , divida o vetor *a* por 2."
   ]
  },
  {
   "cell_type": "code",
   "execution_count": 3,
   "metadata": {},
   "outputs": [
    {
     "name": "stdout",
     "output_type": "stream",
     "text": [
      "[0.5 1.  1.5 2. ]\n"
     ]
    }
   ],
   "source": [
    "vetor_dividido = a / 2\n",
    "print(vetor_dividido)"
   ]
  },
  {
   "cell_type": "markdown",
   "metadata": {},
   "source": [
    "#### Potência\n",
    "**Exercício:**\n",
    "Sabendo que a operação de potenciação é feita por __**__ , calcule o quadrado dos elementos do vetor *a*."
   ]
  },
  {
   "cell_type": "code",
   "execution_count": 4,
   "metadata": {},
   "outputs": [
    {
     "name": "stdout",
     "output_type": "stream",
     "text": [
      "[ 1  4  9 16]\n"
     ]
    }
   ],
   "source": [
    "vetor_elevado = a**2\n",
    "print(vetor_elevado)"
   ]
  },
  {
   "cell_type": "markdown",
   "metadata": {},
   "source": [
    "#### Incrementar +="
   ]
  },
  {
   "cell_type": "code",
   "execution_count": 5,
   "metadata": {},
   "outputs": [
    {
     "name": "stdout",
     "output_type": "stream",
     "text": [
      "[1 2 3 4]\n",
      "[2 4 6 8]\n"
     ]
    }
   ],
   "source": [
    "print(a)\n",
    "\n",
    "a += a\n",
    "\n",
    "print(a)"
   ]
  },
  {
   "cell_type": "markdown",
   "metadata": {},
   "source": [
    "### Exercício: encontre a média e o desvio padrão da matriz, sabendo que os métodos são representados por `np.mean()` e `np.std()`, respectivamente."
   ]
  },
  {
   "cell_type": "code",
   "execution_count": 6,
   "metadata": {},
   "outputs": [],
   "source": [
    "stats = np.array([[1, 2, 3], [4, 5, 6]])"
   ]
  },
  {
   "cell_type": "code",
   "execution_count": 7,
   "metadata": {},
   "outputs": [
    {
     "name": "stdout",
     "output_type": "stream",
     "text": [
      "3.5\n"
     ]
    }
   ],
   "source": [
    "# média dos valores de stats\n",
    "media = np.mean(stats)\n",
    "print(media)"
   ]
  },
  {
   "cell_type": "code",
   "execution_count": 8,
   "metadata": {},
   "outputs": [
    {
     "name": "stdout",
     "output_type": "stream",
     "text": [
      "1.707825127659933\n"
     ]
    }
   ],
   "source": [
    "# desvio padrão dos valores de stats\n",
    "dvpad = np.std(stats)\n",
    "print(dvpad)\n"
   ]
  },
  {
   "cell_type": "code",
   "execution_count": 9,
   "metadata": {},
   "outputs": [
    {
     "name": "stdout",
     "output_type": "stream",
     "text": [
      "[ 6 15]\n"
     ]
    }
   ],
   "source": [
    "# linha\n",
    "\n",
    "soma_colunas = np.sum(stats, axis=1)\n",
    "print(soma_colunas)\n"
   ]
  },
  {
   "cell_type": "markdown",
   "metadata": {},
   "source": [
    "### Realize a soma para cada linha e para cada coluna:"
   ]
  },
  {
   "cell_type": "code",
   "execution_count": 10,
   "metadata": {},
   "outputs": [
    {
     "name": "stdout",
     "output_type": "stream",
     "text": [
      "[5 7 9]\n"
     ]
    }
   ],
   "source": [
    "# coluna\n",
    "\n",
    "soma_linhas = np.sum(stats, axis=0)\n",
    "print(soma_linhas)"
   ]
  },
  {
   "cell_type": "markdown",
   "metadata": {},
   "source": [
    "#### Exercícios"
   ]
  },
  {
   "cell_type": "markdown",
   "metadata": {},
   "source": [
    "1 - Selecione todos os valores ímpares do seguinte array:  <br>\n",
    "array = [1, 2, 3, 4, 5, 6, 7, 8, 9] <br>\n"
   ]
  },
  {
   "cell_type": "code",
   "execution_count": 11,
   "metadata": {},
   "outputs": [
    {
     "name": "stdout",
     "output_type": "stream",
     "text": [
      "[1 2 3 4 5 6 7 8 9]\n"
     ]
    }
   ],
   "source": [
    "array = np.array([1, 2, 3, 4, 5, 6, 7, 8, 9])\n",
    "print(array)"
   ]
  },
  {
   "cell_type": "markdown",
   "metadata": {},
   "source": [
    "2 - Substitua os valores ímpares do seguinte array por 0:  <br>\n",
    "array = [1, 2, 3, 4, 5, 6, 7, 8, 9] <br>\n"
   ]
  },
  {
   "cell_type": "code",
   "execution_count": 12,
   "metadata": {},
   "outputs": [
    {
     "name": "stdout",
     "output_type": "stream",
     "text": [
      "[0 2 0 4 0 6 0 8 0]\n"
     ]
    }
   ],
   "source": [
    "pares = np.where((array%2)!=0, 0, array)\n",
    "print(pares)"
   ]
  },
  {
   "cell_type": "markdown",
   "metadata": {},
   "source": [
    "3 - Considere o dataset da iris disponível em: \n",
    "url = 'https://archive.ics.uci.edu/ml/machine-learning-databases/iris/iris.data'<br> \n",
    "Nesse dataset temos as seguintes informações:<br> \n",
    "   * Coluna 1. sepal length em cm<br> \n",
    "   * Coluna 2. sepal width em cm<br> \n",
    "   * Coluna 3. petal length em cm<br> \n",
    "   * Coluna 4. petal width em cm<br> \n",
    "   * Coluna 5. classe: \n",
    "                -- Iris Setosa \n",
    "                -- Iris Versicolour \n",
    "                -- Iris Virginica \n",
    "                \n",
    "Utilizando o método `np.genfromtxt()`, importe as 4 primeiras colunas do dataset do íris e print as 10 primeiras linhas <br>"
   ]
  },
  {
   "cell_type": "code",
   "execution_count": 13,
   "metadata": {},
   "outputs": [
    {
     "name": "stdout",
     "output_type": "stream",
     "text": [
      "[[5.1 3.5 1.4 0.2]\n",
      " [4.9 3.  1.4 0.2]\n",
      " [4.7 3.2 1.3 0.2]\n",
      " [4.6 3.1 1.5 0.2]\n",
      " [5.  3.6 1.4 0.2]\n",
      " [5.4 3.9 1.7 0.4]\n",
      " [4.6 3.4 1.4 0.3]\n",
      " [5.  3.4 1.5 0.2]\n",
      " [4.4 2.9 1.4 0.2]\n",
      " [4.9 3.1 1.5 0.1]]\n"
     ]
    }
   ],
   "source": [
    "filedata = np.genfromtxt('https://archive.ics.uci.edu/ml/machine-learning-databases/iris/iris.data', delimiter=',',  usecols=[0,1,2,3])\n",
    "print (filedata[0:10])"
   ]
  },
  {
   "cell_type": "markdown",
   "metadata": {},
   "source": [
    "4 - Calcule a média, mediana e desvio padrão da coluna sepallenght"
   ]
  },
  {
   "cell_type": "code",
   "execution_count": 14,
   "metadata": {},
   "outputs": [
    {
     "name": "stdout",
     "output_type": "stream",
     "text": [
      "5.843333333333334 5.8 0.8253012917851409\n"
     ]
    }
   ],
   "source": [
    "sepallenght_data = filedata[:,0]\n",
    "\n",
    "# print (sepallenght_data)\n",
    "\n",
    "sepallenght_mean = np.mean(sepallenght_data)\n",
    "sepallenght_median = np.median(sepallenght_data)\n",
    "sepallenght_std = np.std(sepallenght_data)\n",
    "\n",
    "print(sepallenght_mean, sepallenght_median, sepallenght_std)\n"
   ]
  },
  {
   "cell_type": "markdown",
   "metadata": {},
   "source": [
    "5 - Filtre a matriz para conter apenas dados nos quais petallength (3ª coluna) > 1.5 e sepallength (1ª coluna) < 5.0"
   ]
  },
  {
   "cell_type": "code",
   "execution_count": 15,
   "metadata": {},
   "outputs": [
    {
     "name": "stdout",
     "output_type": "stream",
     "text": [
      "[[4.8 3.4 1.6 0.2]\n",
      " [4.8 3.4 1.9 0.2]\n",
      " [4.7 3.2 1.6 0.2]\n",
      " [4.8 3.1 1.6 0.2]\n",
      " [4.9 2.4 3.3 1. ]\n",
      " [4.9 2.5 4.5 1.7]]\n"
     ]
    }
   ],
   "source": [
    "filtro = (filedata[:,2]>1.5) & (filedata[:,0]<5)\n",
    "\n",
    "print(filedata[filtro])"
   ]
  },
  {
   "cell_type": "markdown",
   "metadata": {},
   "source": [
    "6 - Esse dataset possui nans?"
   ]
  },
  {
   "cell_type": "code",
   "execution_count": 16,
   "metadata": {},
   "outputs": [
    {
     "name": "stdout",
     "output_type": "stream",
     "text": [
      "Número de NAN = 0\n"
     ]
    }
   ],
   "source": [
    "numero_nans = np.sum(np.isnan(filedata))\n",
    "print(f\"Número de NAN = {numero_nans}\")"
   ]
  },
  {
   "cell_type": "markdown",
   "metadata": {},
   "source": [
    "7 - Crie uma coluna de volume sabendo que ele pode ser calculado por (pi x petallength x sepal_length^2)/3"
   ]
  },
  {
   "cell_type": "code",
   "execution_count": 17,
   "metadata": {},
   "outputs": [
    {
     "name": "stdout",
     "output_type": "stream",
     "text": [
      "[[5.10e+00 3.50e+00 1.40e+00 2.00e-01 3.81e+01]\n",
      " [4.90e+00 3.00e+00 1.40e+00 2.00e-01 3.52e+01]\n",
      " [4.70e+00 3.20e+00 1.30e+00 2.00e-01 3.01e+01]\n",
      " [4.60e+00 3.10e+00 1.50e+00 2.00e-01 3.32e+01]\n",
      " [5.00e+00 3.60e+00 1.40e+00 2.00e-01 3.67e+01]\n",
      " [5.40e+00 3.90e+00 1.70e+00 4.00e-01 5.19e+01]\n",
      " [4.60e+00 3.40e+00 1.40e+00 3.00e-01 3.10e+01]\n",
      " [5.00e+00 3.40e+00 1.50e+00 2.00e-01 3.93e+01]\n",
      " [4.40e+00 2.90e+00 1.40e+00 2.00e-01 2.84e+01]\n",
      " [4.90e+00 3.10e+00 1.50e+00 1.00e-01 3.77e+01]\n",
      " [5.40e+00 3.70e+00 1.50e+00 2.00e-01 4.58e+01]\n",
      " [4.80e+00 3.40e+00 1.60e+00 2.00e-01 3.86e+01]\n",
      " [4.80e+00 3.00e+00 1.40e+00 1.00e-01 3.38e+01]\n",
      " [4.30e+00 3.00e+00 1.10e+00 1.00e-01 2.13e+01]\n",
      " [5.80e+00 4.00e+00 1.20e+00 2.00e-01 4.23e+01]\n",
      " [5.70e+00 4.40e+00 1.50e+00 4.00e-01 5.10e+01]\n",
      " [5.40e+00 3.90e+00 1.30e+00 4.00e-01 3.97e+01]\n",
      " [5.10e+00 3.50e+00 1.40e+00 3.00e-01 3.81e+01]\n",
      " [5.70e+00 3.80e+00 1.70e+00 3.00e-01 5.78e+01]\n",
      " [5.10e+00 3.80e+00 1.50e+00 3.00e-01 4.09e+01]\n",
      " [5.40e+00 3.40e+00 1.70e+00 2.00e-01 5.19e+01]\n",
      " [5.10e+00 3.70e+00 1.50e+00 4.00e-01 4.09e+01]\n",
      " [4.60e+00 3.60e+00 1.00e+00 2.00e-01 2.22e+01]\n",
      " [5.10e+00 3.30e+00 1.70e+00 5.00e-01 4.63e+01]\n",
      " [4.80e+00 3.40e+00 1.90e+00 2.00e-01 4.58e+01]\n",
      " [5.00e+00 3.00e+00 1.60e+00 2.00e-01 4.19e+01]\n",
      " [5.00e+00 3.40e+00 1.60e+00 4.00e-01 4.19e+01]\n",
      " [5.20e+00 3.50e+00 1.50e+00 2.00e-01 4.25e+01]\n",
      " [5.20e+00 3.40e+00 1.40e+00 2.00e-01 3.96e+01]\n",
      " [4.70e+00 3.20e+00 1.60e+00 2.00e-01 3.70e+01]\n",
      " [4.80e+00 3.10e+00 1.60e+00 2.00e-01 3.86e+01]\n",
      " [5.40e+00 3.40e+00 1.50e+00 4.00e-01 4.58e+01]\n",
      " [5.20e+00 4.10e+00 1.50e+00 1.00e-01 4.25e+01]\n",
      " [5.50e+00 4.20e+00 1.40e+00 2.00e-01 4.43e+01]\n",
      " [4.90e+00 3.10e+00 1.50e+00 1.00e-01 3.77e+01]\n",
      " [5.00e+00 3.20e+00 1.20e+00 2.00e-01 3.14e+01]\n",
      " [5.50e+00 3.50e+00 1.30e+00 2.00e-01 4.12e+01]\n",
      " [4.90e+00 3.10e+00 1.50e+00 1.00e-01 3.77e+01]\n",
      " [4.40e+00 3.00e+00 1.30e+00 2.00e-01 2.64e+01]\n",
      " [5.10e+00 3.40e+00 1.50e+00 2.00e-01 4.09e+01]\n",
      " [5.00e+00 3.50e+00 1.30e+00 3.00e-01 3.40e+01]\n",
      " [4.50e+00 2.30e+00 1.30e+00 3.00e-01 2.76e+01]\n",
      " [4.40e+00 3.20e+00 1.30e+00 2.00e-01 2.64e+01]\n",
      " [5.00e+00 3.50e+00 1.60e+00 6.00e-01 4.19e+01]\n",
      " [5.10e+00 3.80e+00 1.90e+00 4.00e-01 5.18e+01]\n",
      " [4.80e+00 3.00e+00 1.40e+00 3.00e-01 3.38e+01]\n",
      " [5.10e+00 3.80e+00 1.60e+00 2.00e-01 4.36e+01]\n",
      " [4.60e+00 3.20e+00 1.40e+00 2.00e-01 3.10e+01]\n",
      " [5.30e+00 3.70e+00 1.50e+00 2.00e-01 4.41e+01]\n",
      " [5.00e+00 3.30e+00 1.40e+00 2.00e-01 3.67e+01]\n",
      " [7.00e+00 3.20e+00 4.70e+00 1.40e+00 2.41e+02]\n",
      " [6.40e+00 3.20e+00 4.50e+00 1.50e+00 1.93e+02]\n",
      " [6.90e+00 3.10e+00 4.90e+00 1.50e+00 2.44e+02]\n",
      " [5.50e+00 2.30e+00 4.00e+00 1.30e+00 1.27e+02]\n",
      " [6.50e+00 2.80e+00 4.60e+00 1.50e+00 2.04e+02]\n",
      " [5.70e+00 2.80e+00 4.50e+00 1.30e+00 1.53e+02]\n",
      " [6.30e+00 3.30e+00 4.70e+00 1.60e+00 1.95e+02]\n",
      " [4.90e+00 2.40e+00 3.30e+00 1.00e+00 8.30e+01]\n",
      " [6.60e+00 2.90e+00 4.60e+00 1.30e+00 2.10e+02]\n",
      " [5.20e+00 2.70e+00 3.90e+00 1.40e+00 1.10e+02]\n",
      " [5.00e+00 2.00e+00 3.50e+00 1.00e+00 9.16e+01]\n",
      " [5.90e+00 3.00e+00 4.20e+00 1.50e+00 1.53e+02]\n",
      " [6.00e+00 2.20e+00 4.00e+00 1.00e+00 1.51e+02]\n",
      " [6.10e+00 2.90e+00 4.70e+00 1.40e+00 1.83e+02]\n",
      " [5.60e+00 2.90e+00 3.60e+00 1.30e+00 1.18e+02]\n",
      " [6.70e+00 3.10e+00 4.40e+00 1.40e+00 2.07e+02]\n",
      " [5.60e+00 3.00e+00 4.50e+00 1.50e+00 1.48e+02]\n",
      " [5.80e+00 2.70e+00 4.10e+00 1.00e+00 1.44e+02]\n",
      " [6.20e+00 2.20e+00 4.50e+00 1.50e+00 1.81e+02]\n",
      " [5.60e+00 2.50e+00 3.90e+00 1.10e+00 1.28e+02]\n",
      " [5.90e+00 3.20e+00 4.80e+00 1.80e+00 1.75e+02]\n",
      " [6.10e+00 2.80e+00 4.00e+00 1.30e+00 1.56e+02]\n",
      " [6.30e+00 2.50e+00 4.90e+00 1.50e+00 2.04e+02]\n",
      " [6.10e+00 2.80e+00 4.70e+00 1.20e+00 1.83e+02]\n",
      " [6.40e+00 2.90e+00 4.30e+00 1.30e+00 1.84e+02]\n",
      " [6.60e+00 3.00e+00 4.40e+00 1.40e+00 2.01e+02]\n",
      " [6.80e+00 2.80e+00 4.80e+00 1.40e+00 2.32e+02]\n",
      " [6.70e+00 3.00e+00 5.00e+00 1.70e+00 2.35e+02]\n",
      " [6.00e+00 2.90e+00 4.50e+00 1.50e+00 1.70e+02]\n",
      " [5.70e+00 2.60e+00 3.50e+00 1.00e+00 1.19e+02]\n",
      " [5.50e+00 2.40e+00 3.80e+00 1.10e+00 1.20e+02]\n",
      " [5.50e+00 2.40e+00 3.70e+00 1.00e+00 1.17e+02]\n",
      " [5.80e+00 2.70e+00 3.90e+00 1.20e+00 1.37e+02]\n",
      " [6.00e+00 2.70e+00 5.10e+00 1.60e+00 1.92e+02]\n",
      " [5.40e+00 3.00e+00 4.50e+00 1.50e+00 1.37e+02]\n",
      " [6.00e+00 3.40e+00 4.50e+00 1.60e+00 1.70e+02]\n",
      " [6.70e+00 3.10e+00 4.70e+00 1.50e+00 2.21e+02]\n",
      " [6.30e+00 2.30e+00 4.40e+00 1.30e+00 1.83e+02]\n",
      " [5.60e+00 3.00e+00 4.10e+00 1.30e+00 1.35e+02]\n",
      " [5.50e+00 2.50e+00 4.00e+00 1.30e+00 1.27e+02]\n",
      " [5.50e+00 2.60e+00 4.40e+00 1.20e+00 1.39e+02]\n",
      " [6.10e+00 3.00e+00 4.60e+00 1.40e+00 1.79e+02]\n",
      " [5.80e+00 2.60e+00 4.00e+00 1.20e+00 1.41e+02]\n",
      " [5.00e+00 2.30e+00 3.30e+00 1.00e+00 8.64e+01]\n",
      " [5.60e+00 2.70e+00 4.20e+00 1.30e+00 1.38e+02]\n",
      " [5.70e+00 3.00e+00 4.20e+00 1.20e+00 1.43e+02]\n",
      " [5.70e+00 2.90e+00 4.20e+00 1.30e+00 1.43e+02]\n",
      " [6.20e+00 2.90e+00 4.30e+00 1.30e+00 1.73e+02]\n",
      " [5.10e+00 2.50e+00 3.00e+00 1.10e+00 8.17e+01]\n",
      " [5.70e+00 2.80e+00 4.10e+00 1.30e+00 1.39e+02]\n",
      " [6.30e+00 3.30e+00 6.00e+00 2.50e+00 2.49e+02]\n",
      " [5.80e+00 2.70e+00 5.10e+00 1.90e+00 1.80e+02]\n",
      " [7.10e+00 3.00e+00 5.90e+00 2.10e+00 3.11e+02]\n",
      " [6.30e+00 2.90e+00 5.60e+00 1.80e+00 2.33e+02]\n",
      " [6.50e+00 3.00e+00 5.80e+00 2.20e+00 2.57e+02]\n",
      " [7.60e+00 3.00e+00 6.60e+00 2.10e+00 3.99e+02]\n",
      " [4.90e+00 2.50e+00 4.50e+00 1.70e+00 1.13e+02]\n",
      " [7.30e+00 2.90e+00 6.30e+00 1.80e+00 3.52e+02]\n",
      " [6.70e+00 2.50e+00 5.80e+00 1.80e+00 2.73e+02]\n",
      " [7.20e+00 3.60e+00 6.10e+00 2.50e+00 3.31e+02]\n",
      " [6.50e+00 3.20e+00 5.10e+00 2.00e+00 2.26e+02]\n",
      " [6.40e+00 2.70e+00 5.30e+00 1.90e+00 2.27e+02]\n",
      " [6.80e+00 3.00e+00 5.50e+00 2.10e+00 2.66e+02]\n",
      " [5.70e+00 2.50e+00 5.00e+00 2.00e+00 1.70e+02]\n",
      " [5.80e+00 2.80e+00 5.10e+00 2.40e+00 1.80e+02]\n",
      " [6.40e+00 3.20e+00 5.30e+00 2.30e+00 2.27e+02]\n",
      " [6.50e+00 3.00e+00 5.50e+00 1.80e+00 2.43e+02]\n",
      " [7.70e+00 3.80e+00 6.70e+00 2.20e+00 4.16e+02]\n",
      " [7.70e+00 2.60e+00 6.90e+00 2.30e+00 4.28e+02]\n",
      " [6.00e+00 2.20e+00 5.00e+00 1.50e+00 1.88e+02]\n",
      " [6.90e+00 3.20e+00 5.70e+00 2.30e+00 2.84e+02]\n",
      " [5.60e+00 2.80e+00 4.90e+00 2.00e+00 1.61e+02]\n",
      " [7.70e+00 2.80e+00 6.70e+00 2.00e+00 4.16e+02]\n",
      " [6.30e+00 2.70e+00 4.90e+00 1.80e+00 2.04e+02]\n",
      " [6.70e+00 3.30e+00 5.70e+00 2.10e+00 2.68e+02]\n",
      " [7.20e+00 3.20e+00 6.00e+00 1.80e+00 3.26e+02]\n",
      " [6.20e+00 2.80e+00 4.80e+00 1.80e+00 1.93e+02]\n",
      " [6.10e+00 3.00e+00 4.90e+00 1.80e+00 1.91e+02]\n",
      " [6.40e+00 2.80e+00 5.60e+00 2.10e+00 2.40e+02]\n",
      " [7.20e+00 3.00e+00 5.80e+00 1.60e+00 3.15e+02]\n",
      " [7.40e+00 2.80e+00 6.10e+00 1.90e+00 3.50e+02]\n",
      " [7.90e+00 3.80e+00 6.40e+00 2.00e+00 4.18e+02]\n",
      " [6.40e+00 2.80e+00 5.60e+00 2.20e+00 2.40e+02]\n",
      " [6.30e+00 2.80e+00 5.10e+00 1.50e+00 2.12e+02]\n",
      " [6.10e+00 2.60e+00 5.60e+00 1.40e+00 2.18e+02]\n",
      " [7.70e+00 3.00e+00 6.10e+00 2.30e+00 3.79e+02]\n",
      " [6.30e+00 3.40e+00 5.60e+00 2.40e+00 2.33e+02]\n",
      " [6.40e+00 3.10e+00 5.50e+00 1.80e+00 2.36e+02]\n",
      " [6.00e+00 3.00e+00 4.80e+00 1.80e+00 1.81e+02]\n",
      " [6.90e+00 3.10e+00 5.40e+00 2.10e+00 2.69e+02]\n",
      " [6.70e+00 3.10e+00 5.60e+00 2.40e+00 2.63e+02]\n",
      " [6.90e+00 3.10e+00 5.10e+00 2.30e+00 2.54e+02]\n",
      " [5.80e+00 2.70e+00 5.10e+00 1.90e+00 1.80e+02]\n",
      " [6.80e+00 3.20e+00 5.90e+00 2.30e+00 2.86e+02]\n",
      " [6.70e+00 3.30e+00 5.70e+00 2.50e+00 2.68e+02]\n",
      " [6.70e+00 3.00e+00 5.20e+00 2.30e+00 2.44e+02]\n",
      " [6.30e+00 2.50e+00 5.00e+00 1.90e+00 2.08e+02]\n",
      " [6.50e+00 3.00e+00 5.20e+00 2.00e+00 2.30e+02]\n",
      " [6.20e+00 3.40e+00 5.40e+00 2.30e+00 2.17e+02]\n",
      " [5.90e+00 3.00e+00 5.10e+00 1.80e+00 1.86e+02]]\n"
     ]
    }
   ],
   "source": [
    "volume = (np.pi/3) * filedata[:,2]  * (filedata[:,0]**2)\n",
    "\n",
    "\n",
    "\n",
    "nova_tabela = np.hstack((filedata, np.transpose([volume])))\n",
    "\n",
    "with np.printoptions(precision=2):\n",
    "    print(nova_tabela)"
   ]
  }
 ],
 "metadata": {
  "kernelspec": {
   "display_name": "Python 3 (ipykernel)",
   "language": "python",
   "name": "python3"
  },
  "language_info": {
   "codemirror_mode": {
    "name": "ipython",
    "version": 3
   },
   "file_extension": ".py",
   "mimetype": "text/x-python",
   "name": "python",
   "nbconvert_exporter": "python",
   "pygments_lexer": "ipython3",
   "version": "3.9.7"
  }
 },
 "nbformat": 4,
 "nbformat_minor": 2
}
